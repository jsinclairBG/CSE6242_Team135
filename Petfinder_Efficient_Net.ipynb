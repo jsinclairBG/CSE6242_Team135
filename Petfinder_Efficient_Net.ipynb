{
  "cells": [
    {
      "cell_type": "code",
      "execution_count": null,
      "metadata": {
        "colab": {
          "base_uri": "https://localhost:8080/"
        },
        "id": "pYIB8HMEyYO0",
        "outputId": "0521608a-7f11-4918-bb1a-75e3940d82ca"
      },
      "outputs": [
        {
          "output_type": "stream",
          "name": "stdout",
          "text": [
            "Drive already mounted at /content/drive; to attempt to forcibly remount, call drive.mount(\"/content/drive\", force_remount=True).\n",
            "/content/drive/MyDrive\n"
          ]
        }
      ],
      "source": [
        "from google.colab import drive\n",
        "drive.mount('/content/drive')\n",
        "% cd drive/MyDrive/"
      ]
    },
    {
      "cell_type": "code",
      "execution_count": null,
      "metadata": {
        "id": "pLqrsqmNyo5s"
      },
      "outputs": [],
      "source": [
        "import pandas as pd\n",
        "import numpy as np\n",
        "from PIL import Image\n",
        "from pathlib import Path\n",
        "from torch.utils.data import Dataset, DataLoader\n",
        "from torchvision import transforms as T\n",
        "import torchvision.models as models\n",
        "import torch\n",
        "import torch.nn as nn\n",
        "import torch.optim.lr_scheduler as sch\n",
        "import matplotlib.pyplot as plt\n",
        "import pickle"
      ]
    },
    {
      "cell_type": "code",
      "execution_count": null,
      "metadata": {
        "id": "CxiBGDOhy4JF"
      },
      "outputs": [],
      "source": [
        "class CustomDataset(Dataset):\n",
        "    def __init__(self, csv_path, image_folder, column_label, image_height, image_width):\n",
        "        assert Path(csv_path).exists()\n",
        "        assert Path(csv_path).is_file()\n",
        "        \n",
        "        assert Path(image_folder).exists() \n",
        "        assert Path(image_folder).is_dir()\n",
        "        \n",
        "        \n",
        "        self.df = pd.read_csv(csv_path)\n",
        "        self.image_folder = Path(image_folder)\n",
        "        self.transform = T.Compose([\n",
        "            T.ToTensor(),\n",
        "            T.Resize((image_height, image_width)),\n",
        "            T.Normalize((0.485, 0.456, 0.406), (0.229, 0.224, 0.225)),\n",
        "            T.ColorJitter(brightness=0.5, contrast=0.5, saturation=0.3, hue=0.3)\n",
        "        ])\n",
        "        \n",
        "        assert column_label in self.df.columns\n",
        "        self.column_label = column_label\n",
        "    \n",
        "    def __len__(self):\n",
        "        return len(self.df)\n",
        "    \n",
        "    def __getitem__(self, index):\n",
        "        filename = self.df.loc[index]['Id'] + '.jpg'\n",
        "        image_path = self.image_folder.joinpath(filename)\n",
        "        image = self.transform(Image.open(image_path))\n",
        "        \n",
        "        label = self.df.loc[index][self.column_label]\n",
        "        \n",
        "        return image, label"
      ]
    },
    {
      "cell_type": "code",
      "source": [
        "def build_datasets(csv_path='petfinder_data/train.csv', image_path='petfinder_data/train/', response='Pawpularity', \n",
        "                   image_height=64, image_width=64, train_split=0.8, batch_size=32, num_workers=3):\n",
        "  pawpularity_dataset = CustomDataset('petfinder_data/train.csv', 'petfinder_data/train/', response, image_height, image_width)\n",
        "  train_size = int(len(pawpularity_dataset) * train_split)\n",
        "  test_size = len(pawpularity_dataset) - train_size\n",
        "  paw_train_data, paw_test_data = torch.utils.data.random_split(pawpularity_dataset, [train_size, test_size])\n",
        "  train_data = torch.utils.data.DataLoader(paw_train_data, shuffle=True, batch_size=batch_size, num_workers=num_workers)\n",
        "  test_data = torch.utils.data.DataLoader(paw_test_data, shuffle=True, batch_size=batch_size, num_workers=num_workers)\n",
        "  return train_data, test_data"
      ],
      "metadata": {
        "id": "q8QAsdRSPXzE"
      },
      "execution_count": null,
      "outputs": []
    },
    {
      "cell_type": "code",
      "execution_count": null,
      "metadata": {
        "id": "f1v2mhCb1lro"
      },
      "outputs": [],
      "source": [
        "# set device\n",
        "device = torch.device(\"cuda:0\" if torch.cuda.is_available() else \"cpu\")\n",
        "\n",
        "def build_model(pretrained=True, update_weights=False):\n",
        "  # import efficient net\n",
        "  efficient_net = models.efficientnet_b3(pretrained=pretrained).to(device)\n",
        "\n",
        "  # don't update on model parameters\n",
        "  if not update_weights:\n",
        "    for param in efficient_net.parameters():\n",
        "        param.requires_grad = False\n",
        "\n",
        "  # replace model classifier to fit our data\n",
        "  efficient_net.classifier[1] = nn.Sequential(nn.Sequential(\n",
        "                      nn.Linear(1536, 256),\n",
        "                      nn.ReLU(), \n",
        "                      nn.Dropout(0.2),\n",
        "                      nn.Linear(256, 1)).to(device))\n",
        "  \n",
        "  return efficient_net"
      ]
    },
    {
      "cell_type": "code",
      "execution_count": null,
      "metadata": {
        "id": "QD5td__A2ENU"
      },
      "outputs": [],
      "source": [
        "def train_model(model, train_data, test_data, device=device, epochs=10, lr=0.005):\n",
        "  criterion = nn.L1Loss()\n",
        "  optimizer = torch.optim.Adam(model.classifier.parameters(), lr=lr)\n",
        "  scheduler = sch.ReduceLROnPlateau(optimizer, 'min', factor=0.5, patience=2, verbose=True)\n",
        "  avg_train_loss, avg_test_loss = [], []\n",
        "\n",
        "  for epoch in range(epochs):\n",
        "      \n",
        "      train_loss, test_loss = 0, 0 \n",
        "\n",
        "      i = 0\n",
        "      for inputs, labels in train_data:\n",
        "          inputs = inputs.to(device)\n",
        "          labels = labels.reshape(len(labels), 1).to(device)\n",
        "          \n",
        "          \n",
        "          # zero out gradients\n",
        "          optimizer.zero_grad()\n",
        "      \n",
        "          outputs = model(inputs)\n",
        "          loss = criterion(outputs, labels)\n",
        "          train_loss += loss\n",
        "          loss.backward()\n",
        "          optimizer.step()\n",
        "          \n",
        "          if i % 40 == 0:\n",
        "            print('Epoch: {:<3d} \\t Batch: {:>3d}/{:<3d}  \\t Avg Train Loss: {:>3.2f}'.format(epoch, i, len(train_data), train_loss/(i+1)))\n",
        "          i += 1\n",
        "\n",
        "      v = 0\n",
        "      for test_inputs, test_labels in test_data:\n",
        "          test_inputs = test_inputs.to(device)\n",
        "          test_labels = test_labels.reshape(len(test_labels), 1).to(device)\n",
        "          \n",
        "          with torch.no_grad():\n",
        "              test_out = model(test_inputs)\n",
        "              tloss = criterion(test_out, test_labels)\n",
        "              test_loss += tloss\n",
        "                \n",
        "          if v % 40 == 0:\n",
        "            print('Epoch: {:<3d} \\t Batch: {:>3d}/{:<3d} \\t Avg Test Loss: {:>3.2f}'.format(epoch, v, len(test_data), test_loss/(v+1)))\n",
        "            for j in range(10):\n",
        "              print('Prediction: {} \\t Label: {}'.format(test_out[j].item(), test_labels[j].item()))\n",
        "\n",
        "          v += 1\n",
        "\n",
        "      avg_train_loss.append(train_loss / len(train_data))\n",
        "      avg_test_loss.append(test_loss / len(test_data))\n",
        "      scheduler.step(test_loss)\n",
        "  return model, avg_train_loss, avg_test_loss"
      ]
    },
    {
      "cell_type": "code",
      "source": [
        "def run(epochs, bs, lr, pretrained=True, update_weights=False):\n",
        "  train_data, test_data = build_datasets(batch_size=bs)\n",
        "  efficient_net = build_model(pretrained, update_weights)\n",
        "  model, avg_train_loss, avg_test_loss = train_model(efficient_net, train_data, test_data, epochs=epochs, lr=lr)\n",
        "  print('Final Train Loss: {} \\t Final Test Loss: {}'.format(avg_train_loss[-1], avg_test_loss[-1]))\n",
        "  return model, avg_train_loss, avg_test_loss"
      ],
      "metadata": {
        "id": "J6BiV0_rQXDH"
      },
      "execution_count": null,
      "outputs": []
    },
    {
      "cell_type": "code",
      "source": [
        "# for hyperparameter tuning\n",
        "epochs = 15\n",
        "batch_size = 32\n",
        "learning_rates = [0.01, 0.005, 0.001, 0.0005]\n",
        "avg_train_loss_by_run, avg_test_loss_by_run = [], []\n",
        "\n",
        "for lr in learning_rates:\n",
        "  print('\\nRunning model with {} learning rate...'.format(lr))\n",
        "  _, train_loss, test_loss = run(epochs=epochs, bs=batch_size, lr=lr)\n",
        "  avg_train_loss_by_run.append(train_loss)\n",
        "  avg_test_loss_by_run.append(test_loss)"
      ],
      "metadata": {
        "id": "yQiB_vUy5p-3"
      },
      "execution_count": null,
      "outputs": []
    },
    {
      "cell_type": "code",
      "source": [
        "for i in range(len(avg_test_loss_by_run)):\n",
        "  print('Learning Rate: {} \\t Min Test Loss: {}'.format(learning_rates[i], avg_test_loss[i][-1].item()))"
      ],
      "metadata": {
        "colab": {
          "base_uri": "https://localhost:8080/"
        },
        "id": "Lkto0rhhmQii",
        "outputId": "ceed46e4-56e1-4276-913f-a7d826de7072"
      },
      "execution_count": null,
      "outputs": [
        {
          "output_type": "stream",
          "name": "stdout",
          "text": [
            "Learning Rate: 0.0075 \t Min Test Loss: 15.638766288757324\n",
            "Learning Rate: 0.005 \t Min Test Loss: 15.244185447692871\n",
            "Learning Rate: 0.0025 \t Min Test Loss: 15.843419075012207\n"
          ]
        }
      ]
    },
    {
      "cell_type": "code",
      "source": [
        "model, avg_train_loss, avg_test_loss = run(epochs=15, bs=32, lr=0.005, pretrained=False, update_weights=True)"
      ],
      "metadata": {
        "id": "I2DFUBkc5Hqu"
      },
      "execution_count": null,
      "outputs": []
    },
    {
      "cell_type": "code",
      "source": [
        "avg_train_loss"
      ],
      "metadata": {
        "colab": {
          "base_uri": "https://localhost:8080/"
        },
        "id": "Oaf-hXIumUHe",
        "outputId": "ef7d6596-909b-4234-9d20-71dd8d3e48a6"
      },
      "execution_count": null,
      "outputs": [
        {
          "output_type": "execute_result",
          "data": {
            "text/plain": [
              "[tensor(0.1099, device='cuda:0', grad_fn=<DivBackward0>),\n",
              " tensor(0.1325, device='cuda:0', grad_fn=<DivBackward0>),\n",
              " tensor(0.1240, device='cuda:0', grad_fn=<DivBackward0>),\n",
              " tensor(0.1361, device='cuda:0', grad_fn=<DivBackward0>),\n",
              " tensor(0.1416, device='cuda:0', grad_fn=<DivBackward0>),\n",
              " tensor(0.1423, device='cuda:0', grad_fn=<DivBackward0>),\n",
              " tensor(0.1304, device='cuda:0', grad_fn=<DivBackward0>),\n",
              " tensor(0.1421, device='cuda:0', grad_fn=<DivBackward0>),\n",
              " tensor(0.1425, device='cuda:0', grad_fn=<DivBackward0>),\n",
              " tensor(0.1475, device='cuda:0', grad_fn=<DivBackward0>)]"
            ]
          },
          "metadata": {},
          "execution_count": 13
        }
      ]
    },
    {
      "cell_type": "code",
      "source": [
        "save_path = '/content/drive/MyDrive/Colab Notebooks/'\n",
        "save_name = 'pawpularity_model'"
      ],
      "metadata": {
        "id": "zatjvCttg3ki"
      },
      "execution_count": null,
      "outputs": []
    },
    {
      "cell_type": "code",
      "source": [
        "ep = np.arange(epochs)\n",
        "\n",
        "plt.plot(ep, torch.stack(avg_train_loss).cpu().detach().numpy(), label='train loss')\n",
        "plt.plot(ep, torch.stack(avg_test_loss).cpu().detach().numpy(), label='test loss')\n",
        "plt.xlabel('epoch')\n",
        "plt.ylabel('loss')\n",
        "plt.title('Train & Test Loss by Epoch ')\n",
        "plt.legend()\n",
        "plt.savefig(save_path + save_name)"
      ],
      "metadata": {
        "colab": {
          "base_uri": "https://localhost:8080/",
          "height": 295
        },
        "id": "VZn2bsb6mhUx",
        "outputId": "e66131b4-56b5-4636-e8a5-03698e589248"
      },
      "execution_count": null,
      "outputs": [
        {
          "output_type": "display_data",
          "data": {
            "text/plain": [
              "<Figure size 432x288 with 1 Axes>"
            ],
            "image/png": "[encoded data removed]"
          },
          "metadata": {
            "needs_background": "light"
          }
        }
      ]
    },
    {
      "cell_type": "code",
      "source": [
        "# pickle.dump(efficient_net, open(save_path + save_name + '.sav', 'wb'))\n",
        "torch.save(model, save_path + save_name)"
      ],
      "metadata": {
        "id": "fFPHhPX8dy6Y"
      },
      "execution_count": null,
      "outputs": []
    }
  ],
  "metadata": {
    "accelerator": "GPU",
    "colab": {
      "collapsed_sections": [],
      "name": "Petfinder Models.ipynb",
      "provenance": [],
      "machine_shape": "hm"
    },
    "kernelspec": {
      "display_name": "Python 3",
      "name": "python3"
    },
    "language_info": {
      "name": "python"
    }
  },
  "nbformat": 4,
  "nbformat_minor": 0
}